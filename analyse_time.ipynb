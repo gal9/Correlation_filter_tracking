{
 "cells": [
  {
   "cell_type": "code",
   "execution_count": 3,
   "metadata": {},
   "outputs": [],
   "source": [
    "import os"
   ]
  },
  {
   "cell_type": "code",
   "execution_count": 4,
   "metadata": {},
   "outputs": [],
   "source": [
    "tracker_name = \"Corelation_filter_tracker_larger12\""
   ]
  },
  {
   "cell_type": "code",
   "execution_count": 12,
   "metadata": {},
   "outputs": [
    {
     "ename": "TypeError",
     "evalue": "unsupported operand type(s) for +: 'int' and 'str'",
     "output_type": "error",
     "traceback": [
      "\u001b[0;31m---------------------------------------------------------------------------\u001b[0m",
      "\u001b[0;31mTypeError\u001b[0m                                 Traceback (most recent call last)",
      "Cell \u001b[0;32mIn[12], line 18\u001b[0m\n\u001b[1;32m     16\u001b[0m     \u001b[39melse\u001b[39;00m:\n\u001b[1;32m     17\u001b[0m         other\u001b[39m.\u001b[39mappend(times[i])\n\u001b[0;32m---> 18\u001b[0m avg_initialization \u001b[39m=\u001b[39m \u001b[39msum\u001b[39;49m(initialization)\u001b[39m/\u001b[39m\u001b[39mlen\u001b[39m(initialization)\n\u001b[1;32m     19\u001b[0m avg_other \u001b[39m=\u001b[39m \u001b[39msum\u001b[39m(other)\u001b[39m/\u001b[39m\u001b[39mlen\u001b[39m(other)\n\u001b[1;32m     20\u001b[0m \u001b[39mprint\u001b[39m(\u001b[39mf\u001b[39m\u001b[39m\"\u001b[39m\u001b[39mSequence \u001b[39m\u001b[39m{\u001b[39;00msequence\u001b[39m}\u001b[39;00m\u001b[39m => initialization avg: \u001b[39m\u001b[39m{\u001b[39;00mavg_initialization\u001b[39m}\u001b[39;00m\u001b[39m; else avg: \u001b[39m\u001b[39m{\u001b[39;00mavg_other\u001b[39m}\u001b[39;00m\u001b[39m\"\u001b[39m)\n",
      "\u001b[0;31mTypeError\u001b[0m: unsupported operand type(s) for +: 'int' and 'str'"
     ]
    }
   ],
   "source": [
    "for sequence in os.listdir(f\"./workspace_dir/results/{tracker_name}/\"):\n",
    "    f = os.path.join(f\"./workspace_dir/results/{tracker_name}/\", sequence)\n",
    "    # checking if it is a file\n",
    "    file_times = os.path.join(f, f\"{sequence}_001_time.txt\")\n",
    "    file_res = os.path.join(f, f\"{sequence}_001.txt\")\n",
    "    with open(file_times) as f_t:\n",
    "        times = f_t.readlines()\n",
    "    with open(file_res) as f_r:\n",
    "        res = f_r.readlines()\n",
    "\n",
    "    initialization = []\n",
    "    other = []\n",
    "    for i, r in enumerate(res):\n",
    "        if(r == \"1\\n\"):\n",
    "            initialization.append(float(times[i]))\n",
    "        else:\n",
    "            other.append(float(times[i]))\n",
    "    avg_initialization = sum(initialization)/len(initialization)\n",
    "    avg_other = sum(other)/len(other)\n",
    "    print(f\"Sequence {sequence} => initialization avg: {avg_initialization}; else avg: {avg_other}\")"
   ]
  },
  {
   "cell_type": "code",
   "execution_count": null,
   "metadata": {},
   "outputs": [],
   "source": []
  }
 ],
 "metadata": {
  "kernelspec": {
   "display_name": "vision",
   "language": "python",
   "name": "python3"
  },
  "language_info": {
   "codemirror_mode": {
    "name": "ipython",
    "version": 3
   },
   "file_extension": ".py",
   "mimetype": "text/x-python",
   "name": "python",
   "nbconvert_exporter": "python",
   "pygments_lexer": "ipython3",
   "version": "3.10.7+"
  },
  "orig_nbformat": 4
 },
 "nbformat": 4,
 "nbformat_minor": 2
}
