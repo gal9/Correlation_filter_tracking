{
 "cells": [
  {
   "cell_type": "code",
   "execution_count": 3,
   "metadata": {},
   "outputs": [],
   "source": [
    "import os"
   ]
  },
  {
   "cell_type": "code",
   "execution_count": 4,
   "metadata": {},
   "outputs": [],
   "source": [
    "tracker_name = \"Corelation_filter_tracker_larger12\""
   ]
  },
  {
   "cell_type": "code",
   "execution_count": 13,
   "metadata": {},
   "outputs": [
    {
     "name": "stdout",
     "output_type": "stream",
     "text": [
      "Sequence juice => initialization avg: 0.00128613; else avg: 0.0008774843672456581\n",
      "Sequence bolt => initialization avg: 0.0005314419999999999; else avg: 0.0006141966376811591\n",
      "Sequence diving => initialization avg: 0.0006234875; else avg: 0.00048566202643171813\n",
      "Sequence woman => initialization avg: 0.00089771; else avg: 0.0006967509764309762\n",
      "Sequence hand => initialization avg: 0.0008475022222222223; else avg: 0.0006611715319148931\n",
      "Sequence sunshade => initialization avg: 0.0006687500000000001; else avg: 0.0007459354705882352\n",
      "Sequence face => initialization avg: 0.0021483525000000002; else avg: 0.001715982262773723\n",
      "Sequence torus => initialization avg: 0.0007981016666666667; else avg: 0.0008116838759689915\n",
      "Sequence jump => initialization avg: 0.00073524; else avg: 0.0007026179735682817\n",
      "Sequence iceskater => initialization avg: 0.002636865; else avg: 0.002405165843373494\n",
      "Sequence car => initialization avg: 0.000693345; else avg: 0.0007888646236559141\n",
      "Sequence singer => initialization avg: 0.00396859; else avg: 0.005371540114285713\n",
      "Sequence david => initialization avg: 0.00299984; else avg: 0.0030846014694408293\n",
      "Sequence gymnastics => initialization avg: 0.00094348; else avg: 0.0007093029556650244\n",
      "Sequence cup => initialization avg: 0.00076328; else avg: 0.0005197468543046354\n",
      "Sequence bicycle => initialization avg: 0.00070029; else avg: 0.000448109442379182\n"
     ]
    }
   ],
   "source": [
    "for sequence in os.listdir(f\"./workspace_dir/results/{tracker_name}/\"):\n",
    "    f = os.path.join(f\"./workspace_dir/results/{tracker_name}/\", sequence)\n",
    "    # checking if it is a file\n",
    "    file_times = os.path.join(f, f\"{sequence}_001_time.txt\")\n",
    "    file_res = os.path.join(f, f\"{sequence}_001.txt\")\n",
    "    with open(file_times) as f_t:\n",
    "        times = f_t.readlines()\n",
    "    with open(file_res) as f_r:\n",
    "        res = f_r.readlines()\n",
    "\n",
    "    initialization = []\n",
    "    other = []\n",
    "    for i, r in enumerate(res):\n",
    "        if(r == \"1\\n\"):\n",
    "            initialization.append(float(times[i]))\n",
    "        else:\n",
    "            other.append(float(times[i]))\n",
    "    avg_initialization = sum(initialization)/len(initialization)\n",
    "    avg_other = sum(other)/len(other)\n",
    "    print(f\"Sequence {sequence} => initialization avg: {avg_initialization}; else avg: {avg_other}\")"
   ]
  },
  {
   "cell_type": "code",
   "execution_count": null,
   "metadata": {},
   "outputs": [],
   "source": []
  }
 ],
 "metadata": {
  "kernelspec": {
   "display_name": "vision",
   "language": "python",
   "name": "python3"
  },
  "language_info": {
   "codemirror_mode": {
    "name": "ipython",
    "version": 3
   },
   "file_extension": ".py",
   "mimetype": "text/x-python",
   "name": "python",
   "nbconvert_exporter": "python",
   "pygments_lexer": "ipython3",
   "version": "3.10.7+"
  },
  "orig_nbformat": 4
 },
 "nbformat": 4,
 "nbformat_minor": 2
}
